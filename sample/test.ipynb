{
 "cells": [
  {
   "cell_type": "code",
   "execution_count": 2,
   "metadata": {},
   "outputs": [],
   "source": [
    "from __future__ import division\n",
    "\n",
    "from copy import deepcopy\n",
    "from mcts import mcts\n",
    "from functools import reduce\n",
    "import operator\n",
    "\n",
    "import numpy as np\n",
    "import matplotlib.pyplot as plt\n",
    "\n",
    "%matplotlib inline"
   ]
  },
  {
   "cell_type": "code",
   "execution_count": 8,
   "metadata": {},
   "outputs": [],
   "source": [
    "class NaughtsAndCrossesState():\n",
    "    def __init__(self):\n",
    "        self.board = [[0, 0, 0], [0, 0, 0], [0, 0, 0]]\n",
    "        self.currentPlayer = 1\n",
    "\n",
    "    def getCurrentPlayer(self):\n",
    "        return self.currentPlayer\n",
    "\n",
    "    def getPossibleActions(self):\n",
    "        possibleActions = []\n",
    "        for i in range(len(self.board)):\n",
    "            for j in range(len(self.board[i])):\n",
    "                if self.board[i][j] == 0:\n",
    "                    possibleActions.append(Action(player=self.currentPlayer, x=i, y=j))\n",
    "        return possibleActions\n",
    "\n",
    "    def takeAction(self, action):\n",
    "        newState = deepcopy(self)\n",
    "        newState.board[action.x][action.y] = action.player\n",
    "        newState.currentPlayer = self.currentPlayer * -1\n",
    "        return newState\n",
    "\n",
    "    def isTerminal(self):\n",
    "        for row in self.board:\n",
    "            if abs(sum(row)) == 3:\n",
    "                return True\n",
    "        for column in list(map(list, zip(*self.board))):\n",
    "            if abs(sum(column)) == 3:\n",
    "                return True\n",
    "        for diagonal in [[self.board[i][i] for i in range(len(self.board))],\n",
    "                         [self.board[i][len(self.board) - i - 1] for i in range(len(self.board))]]:\n",
    "            if abs(sum(diagonal)) == 3:\n",
    "                return True\n",
    "        return reduce(operator.mul, sum(self.board, []), 1)\n",
    "\n",
    "    def getReward(self):\n",
    "        for row in self.board:\n",
    "            if abs(sum(row)) == 3:\n",
    "                return sum(row) / 3\n",
    "        for column in list(map(list, zip(*self.board))):\n",
    "            if abs(sum(column)) == 3:\n",
    "                return sum(column) / 3\n",
    "        for diagonal in [[self.board[i][i] for i in range(len(self.board))],\n",
    "                         [self.board[i][len(self.board) - i - 1] for i in range(len(self.board))]]:\n",
    "            if abs(sum(diagonal)) == 3:\n",
    "                return sum(diagonal) / 3\n",
    "        return False\n",
    "    \n",
    "    def draw_board(self):\n",
    "        for row in self.board:\n",
    "            print(row[0], row[1], row[2]) \n",
    "\n",
    "\n",
    "class Action():\n",
    "    def __init__(self, player, x, y):\n",
    "        self.player = player\n",
    "        self.x = x\n",
    "        self.y = y\n",
    "\n",
    "    def __str__(self):\n",
    "        return str((self.x, self.y))\n",
    "\n",
    "    def __repr__(self):\n",
    "        return str(self)\n",
    "\n",
    "    def __eq__(self, other):\n",
    "        return self.__class__ == other.__class__ and self.x == other.x and self.y == other.y and self.player == other.player\n",
    "\n",
    "    def __hash__(self):\n",
    "        return hash((self.x, self.y, self.player))"
   ]
  },
  {
   "cell_type": "code",
   "execution_count": 9,
   "metadata": {},
   "outputs": [],
   "source": [
    "initialState = NaughtsAndCrossesState()"
   ]
  },
  {
   "cell_type": "code",
   "execution_count": 10,
   "metadata": {},
   "outputs": [],
   "source": [
    "cleaverSearcher = mcts(timeLimit=1000)\n",
    "foolSearcher = mcts(timeLimit=1000, explorationConstant=0)"
   ]
  },
  {
   "cell_type": "code",
   "execution_count": 7,
   "metadata": {},
   "outputs": [
    {
     "name": "stdout",
     "output_type": "stream",
     "text": [
      "0 0 0\n",
      "0 0 0\n",
      "0 0 0\n",
      "------\n",
      "0 0 0\n",
      "0 1 0\n",
      "0 0 0\n",
      "------\n",
      "-1 0 0\n",
      "0 1 0\n",
      "0 0 0\n",
      "------\n",
      "-1 0 0\n",
      "1 1 0\n",
      "0 0 0\n",
      "------\n",
      "-1 0 0\n",
      "1 1 -1\n",
      "0 0 0\n",
      "------\n",
      "-1 0 1\n",
      "1 1 -1\n",
      "0 0 0\n",
      "------\n",
      "-1 0 1\n",
      "1 1 -1\n",
      "-1 0 0\n",
      "------\n",
      "-1 1 1\n",
      "1 1 -1\n",
      "-1 0 0\n",
      "------\n",
      "-1 1 1\n",
      "1 1 -1\n",
      "-1 -1 0\n",
      "------\n",
      "-1 1 1\n",
      "1 1 -1\n",
      "-1 -1 1\n"
     ]
    }
   ],
   "source": [
    "state = initialState\n",
    "state.draw_board()\n",
    "print(\"------\")\n",
    "\n",
    "while True:\n",
    "    # 最適な手を探索\n",
    "    action = searcher.search(initialState=state)\n",
    "    \n",
    "    # 最適手をプレイ\n",
    "    state = state.takeAction(action)\n",
    "    \n",
    "    # 盤面を表示\n",
    "    state.draw_board()\n",
    "    \n",
    "    # 勝敗がついていたら終了\n",
    "    if state.isTerminal():\n",
    "        break\n",
    "        \n",
    "    print(\"------\")"
   ]
  },
  {
   "cell_type": "code",
   "execution_count": 12,
   "metadata": {},
   "outputs": [
    {
     "name": "stdout",
     "output_type": "stream",
     "text": [
      "723\n",
      "224\n",
      "262\n",
      "127\n",
      "3301\n",
      "321\n",
      "605\n",
      "199\n",
      "564\n"
     ]
    }
   ],
   "source": [
    "for action, node in searcher.root.children.items():\n",
    "    print(node.numVisits)"
   ]
  },
  {
   "cell_type": "code",
   "execution_count": 46,
   "metadata": {},
   "outputs": [
    {
     "name": "stdout",
     "output_type": "stream",
     "text": [
      "0 0 0\n",
      "0 0 0\n",
      "0 0 0\n"
     ]
    }
   ],
   "source": [
    "searcher.root.state.draw_board()"
   ]
  },
  {
   "cell_type": "code",
   "execution_count": 51,
   "metadata": {},
   "outputs": [
    {
     "name": "stdout",
     "output_type": "stream",
     "text": [
      "1 0 0\n",
      "0 0 0\n",
      "0 0 0\n",
      "----------\n",
      "0 1 0\n",
      "0 0 0\n",
      "0 0 0\n",
      "----------\n",
      "0 0 1\n",
      "0 0 0\n",
      "0 0 0\n",
      "----------\n",
      "0 0 0\n",
      "1 0 0\n",
      "0 0 0\n",
      "----------\n",
      "0 0 0\n",
      "0 1 0\n",
      "0 0 0\n",
      "----------\n",
      "0 0 0\n",
      "0 0 1\n",
      "0 0 0\n",
      "----------\n",
      "0 0 0\n",
      "0 0 0\n",
      "1 0 0\n",
      "----------\n",
      "0 0 0\n",
      "0 0 0\n",
      "0 1 0\n",
      "----------\n",
      "0 0 0\n",
      "0 0 0\n",
      "0 0 1\n",
      "----------\n"
     ]
    }
   ],
   "source": [
    "for action, node in searcher.root.children.items():\n",
    "    node.state.draw_board()\n",
    "    print(\"----------\")"
   ]
  },
  {
   "cell_type": "code",
   "execution_count": 15,
   "metadata": {},
   "outputs": [
    {
     "data": {
      "text/plain": [
       "<__main__.NaughtsAndCrossesState at 0x7f7fd94341d0>"
      ]
     },
     "execution_count": 15,
     "metadata": {},
     "output_type": "execute_result"
    }
   ],
   "source": [
    "initialState"
   ]
  },
  {
   "cell_type": "code",
   "execution_count": 26,
   "metadata": {},
   "outputs": [],
   "source": [
    "pa = initialState.getPossibleActions()\n",
    "action = pa[0]"
   ]
  },
  {
   "cell_type": "code",
   "execution_count": 27,
   "metadata": {},
   "outputs": [],
   "source": [
    "dict = {}\n",
    "dict[action] = 1"
   ]
  },
  {
   "cell_type": "code",
   "execution_count": 24,
   "metadata": {},
   "outputs": [
    {
     "data": {
      "text/plain": [
       "{(0, 0): 1}"
      ]
     },
     "execution_count": 24,
     "metadata": {},
     "output_type": "execute_result"
    }
   ],
   "source": [
    "dict"
   ]
  },
  {
   "cell_type": "code",
   "execution_count": 28,
   "metadata": {},
   "outputs": [
    {
     "data": {
      "text/plain": [
       "1"
      ]
     },
     "execution_count": 28,
     "metadata": {},
     "output_type": "execute_result"
    }
   ],
   "source": [
    "dict[action]"
   ]
  },
  {
   "cell_type": "code",
   "execution_count": 29,
   "metadata": {},
   "outputs": [
    {
     "data": {
      "text/plain": [
       "(0, 0)"
      ]
     },
     "execution_count": 29,
     "metadata": {},
     "output_type": "execute_result"
    }
   ],
   "source": [
    "action"
   ]
  },
  {
   "cell_type": "code",
   "execution_count": 39,
   "metadata": {},
   "outputs": [
    {
     "name": "stdout",
     "output_type": "stream",
     "text": [
      "0 0 0\n",
      "0 0 0\n",
      "0 0 0\n"
     ]
    }
   ],
   "source": [
    "board = [[0, 0, 0], [0, 0, 0], [0, 0, 0]]\n",
    "for row in board:\n",
    "    print(row[0], row[1], row[2])"
   ]
  },
  {
   "cell_type": "code",
   "execution_count": null,
   "metadata": {},
   "outputs": [],
   "source": [
    "for row in board"
   ]
  },
  {
   "cell_type": "code",
   "execution_count": 38,
   "metadata": {},
   "outputs": [
    {
     "data": {
      "text/plain": [
       "([<matplotlib.axis.YTick at 0x7f7fdc75a290>,\n",
       "  <matplotlib.axis.YTick at 0x7f7fdc95c910>,\n",
       "  <matplotlib.axis.YTick at 0x7f7fdc89be10>,\n",
       "  <matplotlib.axis.YTick at 0x7f7fdcbd79d0>],\n",
       " <a list of 4 Text yticklabel objects>)"
      ]
     },
     "execution_count": 38,
     "metadata": {},
     "output_type": "execute_result"
    },
    {
     "data": {
      "image/png": "[encoded data removed]",
      "text/plain": [
       "<Figure size 432x288 with 1 Axes>"
      ]
     },
     "metadata": {
      "needs_background": "light"
     },
     "output_type": "display_data"
    }
   ],
   "source": [
    "plt.grid()\n",
    "plt.xlim([0,3])\n",
    "plt.ylim([0, 3])\n",
    "plt.xticks(np.arange(0, 3.1, 1))\n",
    "plt.yticks(np.arange(0, 3.1, 1))"
   ]
  },
  {
   "cell_type": "code",
   "execution_count": null,
   "metadata": {},
   "outputs": [],
   "source": []
  }
 ],
 "metadata": {
  "kernelspec": {
   "display_name": "Python 3",
   "language": "python",
   "name": "python3"
  },
  "language_info": {
   "codemirror_mode": {
    "name": "ipython",
    "version": 3
   },
   "file_extension": ".py",
   "mimetype": "text/x-python",
   "name": "python",
   "nbconvert_exporter": "python",
   "pygments_lexer": "ipython3",
   "version": "3.7.6"
  }
 },
 "nbformat": 4,
 "nbformat_minor": 4
}

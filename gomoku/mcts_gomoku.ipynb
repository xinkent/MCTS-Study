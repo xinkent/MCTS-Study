{
 "cells": [
  {
   "cell_type": "markdown",
   "metadata": {},
   "source": [
    "## MCTSを用いた五目並べの実践"
   ]
  },
  {
   "cell_type": "code",
   "execution_count": 11,
   "metadata": {},
   "outputs": [],
   "source": [
    "from __future__ import division\n",
    "\n",
    "from copy import deepcopy\n",
    "from mcts import mcts\n",
    "from gomoku import GomokuState\n",
    "from gravity_gomoku import GravityGomokuState\n",
    "from functools import reduce\n",
    "import operator\n",
    "import importlib\n",
    "from graphviz import Graph\n",
    "\n",
    "import numpy as np\n",
    "import matplotlib.pyplot as plt\n",
    "\n",
    "%matplotlib inline"
   ]
  },
  {
   "cell_type": "markdown",
   "metadata": {},
   "source": [
    "### 五目並べ状態を設定\n",
    "- 状態にはインターフェースに沿っていれば任意のゲームを指定できる。"
   ]
  },
  {
   "cell_type": "code",
   "execution_count": 16,
   "metadata": {},
   "outputs": [],
   "source": [
    "N = 6\n",
    "K = 5\n",
    "initialState = GomokuState(N, K)"
   ]
  },
  {
   "cell_type": "markdown",
   "metadata": {},
   "source": [
    "### 探索アルゴリズムを設定\n",
    "- cleaverSearcher: MCTSによる賢いアルゴリズム  \n",
    "- foolSearhcer: UCTの探索項を0にしたアルゴリズム"
   ]
  },
  {
   "cell_type": "code",
   "execution_count": 17,
   "metadata": {},
   "outputs": [],
   "source": [
    "searcher = mcts(timeLimit=10000)\n",
    "cleaverSearcher = mcts(timeLimit=3000)\n",
    "foolSearcher = mcts(timeLimit=3000, explorationConstant=0)"
   ]
  },
  {
   "cell_type": "code",
   "execution_count": 18,
   "metadata": {},
   "outputs": [],
   "source": [
    "state = initialState"
   ]
  },
  {
   "cell_type": "code",
   "execution_count": 19,
   "metadata": {},
   "outputs": [
    {
     "name": "stdout",
     "output_type": "stream",
     "text": [
      "XXXXXX\n",
      "XXXXXX\n",
      "XXXXXX\n",
      "XXXXXX\n",
      "XXXXXX\n",
      "XXXXXX\n",
      "\n",
      "------\n",
      "Player:1\n",
      "(2, 3)\n",
      "XXXXXX\n",
      "XXXXXX\n",
      "XXXAXX\n",
      "XXXXXX\n",
      "XXXXXX\n",
      "XXXXXX\n",
      "\n",
      "(0, 0): 1 (0, 1): 1 (0, 2): 1 (0, 3): 5 (0, 4): 1 (0, 5): 2 (1, 0): 5 (1, 1): 46 (1, 2): 2 (1, 3): 22 (1, 4): 1 (1, 5): 3 (2, 0): 1 (2, 1): 6 (2, 2): 12 (2, 3): 322 (2, 4): 3 (2, 5): 1 (3, 0): 2 (3, 1): 30 (3, 2): 2 (3, 3): 1 (3, 4): 1 (3, 5): 22 (4, 0): 2 (4, 1): 1 (4, 2): 2 (4, 3): 23 (4, 4): 1 (4, 5): 2 (5, 0): 3 (5, 1): 3 (5, 2): 3 (5, 3): 2 (5, 4): 1 (5, 5): 1 \n",
      "------\n",
      "Player:-1\n",
      "(3, 3)\n",
      "XXXXXX\n",
      "XXXXXX\n",
      "XXXAXX\n",
      "XXXBXX\n",
      "XXXXXX\n",
      "XXXXXX\n",
      "\n",
      "(0, 0): 5 (0, 1): 11 (0, 2): 8 (0, 3): 8 (0, 4): 10 (0, 5): 20 (1, 0): 28 (1, 1): 18 (1, 2): 30 (1, 3): 11 (1, 4): 13 (1, 5): 11 (2, 0): 30 (2, 1): 18 (2, 2): 13 (2, 4): 13 (2, 5): 5 (3, 0): 20 (3, 1): 15 (3, 2): 13 (3, 3): 54 (3, 4): 24 (3, 5): 28 (4, 0): 26 (4, 1): 22 (4, 2): 22 (4, 3): 15 (4, 4): 24 (4, 5): 24 (5, 0): 8 (5, 1): 28 (5, 2): 8 (5, 3): 13 (5, 4): 18 (5, 5): 11 \n",
      "------\n",
      "Player:1\n",
      "(3, 4)\n",
      "XXXXXX\n",
      "XXXXXX\n",
      "XXXAXX\n",
      "XXXBAX\n",
      "XXXXXX\n",
      "XXXXXX\n",
      "\n",
      "(0, 0): 20 (0, 1): 7 (0, 2): 1 (0, 3): 2 (0, 4): 5 (0, 5): 1 (1, 0): 1 (1, 1): 1 (1, 2): 2 (1, 3): 1 (1, 4): 74 (1, 5): 2 (2, 0): 2 (2, 1): 1 (2, 2): 29 (2, 4): 1 (2, 5): 1 (3, 0): 1 (3, 1): 4 (3, 2): 1 (3, 4): 188 (3, 5): 1 (4, 0): 5 (4, 1): 116 (4, 2): 2 (4, 3): 5 (4, 4): 1 (4, 5): 23 (5, 0): 2 (5, 1): 2 (5, 2): 1 (5, 3): 5 (5, 4): 110 (5, 5): 34 \n",
      "------\n",
      "Player:-1\n",
      "(5, 1)\n",
      "XXXXXX\n",
      "XXXXXX\n",
      "XXXAXX\n",
      "XXXBAX\n",
      "XXXXXX\n",
      "XBXXXX\n",
      "\n",
      "(0, 0): 8 (0, 1): 5 (0, 2): 10 (0, 3): 30 (0, 4): 41 (0, 5): 8 (1, 0): 49 (1, 1): 39 (1, 2): 15 (1, 3): 10 (1, 4): 17 (1, 5): 21 (2, 0): 8 (2, 1): 5 (2, 2): 23 (2, 4): 10 (2, 5): 39 (3, 0): 10 (3, 1): 17 (3, 2): 51 (3, 5): 8 (4, 0): 5 (4, 1): 13 (4, 2): 19 (4, 3): 15 (4, 4): 23 (4, 5): 25 (5, 0): 32 (5, 1): 51 (5, 2): 10 (5, 3): 34 (5, 4): 17 (5, 5): 8 \n",
      "------\n",
      "Player:1\n",
      "(1, 2)\n",
      "XXXXXX\n",
      "XXAXXX\n",
      "XXXAXX\n",
      "XXXBAX\n",
      "XXXXXX\n",
      "XBXXXX\n",
      "\n",
      "(0, 0): 5 (0, 1): 43 (0, 2): 3 (0, 3): 1 (0, 4): 8 (0, 5): 1 (1, 0): 1 (1, 1): 1 (1, 2): 457 (1, 3): 1 (1, 4): 8 (1, 5): 3 (2, 0): 1 (2, 1): 2 (2, 2): 3 (2, 4): 3 (2, 5): 8 (3, 0): 1 (3, 1): 1 (3, 2): 125 (3, 5): 1 (4, 0): 1 (4, 1): 2 (4, 2): 2 (4, 3): 17 (4, 4): 6 (4, 5): 4 (5, 0): 2 (5, 2): 1 (5, 3): 1 (5, 4): 2 (5, 5): 2 \n",
      "------\n",
      "Player:-1\n",
      "(0, 1)\n",
      "XBXXXX\n",
      "XXAXXX\n",
      "XXXAXX\n",
      "XXXBAX\n",
      "XXXXXX\n",
      "XBXXXX\n",
      "\n",
      "(0, 0): 6 (0, 1): 64 (0, 2): 11 (0, 3): 11 (0, 4): 39 (0, 5): 26 (1, 0): 30 (1, 1): 14 (1, 3): 6 (1, 4): 41 (1, 5): 60 (2, 0): 28 (2, 1): 14 (2, 2): 21 (2, 4): 47 (2, 5): 9 (3, 0): 6 (3, 1): 6 (3, 2): 30 (3, 5): 16 (4, 0): 49 (4, 1): 62 (4, 2): 14 (4, 3): 23 (4, 4): 16 (4, 5): 16 (5, 0): 16 (5, 2): 11 (5, 3): 11 (5, 4): 30 (5, 5): 23 \n",
      "------\n",
      "Player:1\n",
      "(1, 5)\n",
      "XBXXXX\n",
      "XXAXXA\n",
      "XXXAXX\n",
      "XXXBAX\n",
      "XXXXXX\n",
      "XBXXXX\n",
      "\n",
      "(0, 0): 1 (0, 2): 1 (0, 3): 1 (0, 4): 1 (0, 5): 2 (1, 0): 5 (1, 1): 6 (1, 3): 5 (1, 4): 2 (1, 5): 687 (2, 0): 1 (2, 1): 5 (2, 2): 3 (2, 4): 1 (2, 5): 1 (3, 0): 1 (3, 1): 3 (3, 2): 5 (3, 5): 6 (4, 0): 8 (4, 1): 3 (4, 2): 1 (4, 3): 1 (4, 4): 2 (4, 5): 2 (5, 0): 2 (5, 2): 1 (5, 3): 1 (5, 4): 2 (5, 5): 5 \n",
      "------\n",
      "Player:-1\n",
      "(4, 4)\n",
      "XBXXXX\n",
      "XXAXXA\n",
      "XXXAXX\n",
      "XXXBAX\n",
      "XXXXBX\n",
      "XBXXXX\n",
      "\n",
      "(0, 0): 9 (0, 2): 25 (0, 3): 18 (0, 4): 18 (0, 5): 9 (1, 0): 6 (1, 1): 85 (1, 3): 30 (1, 4): 6 (2, 0): 18 (2, 1): 20 (2, 2): 15 (2, 4): 12 (2, 5): 6 (3, 0): 9 (3, 1): 18 (3, 2): 9 (3, 5): 9 (4, 0): 72 (4, 1): 85 (4, 2): 39 (4, 3): 25 (4, 4): 89 (4, 5): 6 (5, 0): 25 (5, 2): 55 (5, 3): 12 (5, 4): 12 (5, 5): 28 \n",
      "------\n",
      "Player:1\n",
      "(1, 4)\n",
      "XBXXXX\n",
      "XXAXAA\n",
      "XXXAXX\n",
      "XXXBAX\n",
      "XXXXBX\n",
      "XBXXXX\n",
      "\n",
      "(0, 0): 1 (0, 2): 1 (0, 3): 8 (0, 4): 7 (0, 5): 1 (1, 0): 5 (1, 1): 1 (1, 3): 8 (1, 4): 477 (2, 0): 1 (2, 1): 26 (2, 2): 1 (2, 4): 8 (2, 5): 2 (3, 0): 1 (3, 1): 4 (3, 2): 1 (3, 5): 5 (4, 0): 1 (4, 1): 4 (4, 2): 1 (4, 3): 99 (4, 5): 2 (5, 0): 4 (5, 2): 2 (5, 3): 26 (5, 4): 2 (5, 5): 117 \n",
      "------\n",
      "Player:-1\n",
      "(1, 1)\n",
      "XBXXXX\n",
      "XBAXAA\n",
      "XXXAXX\n",
      "XXXBAX\n",
      "XXXXBX\n",
      "XBXXXX\n",
      "\n",
      "(0, 0): 24 (0, 2): 16 (0, 3): 65 (0, 4): 22 (0, 5): 18 (1, 0): 37 (1, 1): 192 (1, 3): 39 (2, 0): 14 (2, 1): 4 (2, 2): 51 (2, 4): 15 (2, 5): 51 (3, 0): 31 (3, 1): 14 (3, 2): 4 (3, 5): 31 (4, 0): 12 (4, 1): 35 (4, 2): 4 (4, 3): 16 (4, 5): 31 (5, 0): 16 (5, 2): 4 (5, 3): 18 (5, 4): 22 (5, 5): 14 \n",
      "------\n",
      "Player:1\n",
      "(0, 4)\n",
      "XBXXAX\n",
      "XBAXAA\n",
      "XXXAXX\n",
      "XXXBAX\n",
      "XXXXBX\n",
      "XBXXXX\n",
      "\n",
      "(0, 0): 1 (0, 2): 11 (0, 3): 3 (0, 4): 561 (0, 5): 3 (1, 0): 25 (1, 3): 3 (2, 0): 80 (2, 1): 3 (2, 2): 3 (2, 4): 8 (2, 5): 3 (3, 0): 1 (3, 1): 1 (3, 2): 13 (3, 5): 1 (4, 0): 70 (4, 1): 118 (4, 2): 143 (4, 3): 5 (4, 5): 1 (5, 0): 3 (5, 2): 1 (5, 3): 1 (5, 4): 1 (5, 5): 1 \n",
      "------\n",
      "Player:-1\n",
      "(2, 2)\n",
      "XBXXAX\n",
      "XBAXAA\n",
      "XXBAXX\n",
      "XXXBAX\n",
      "XXXXBX\n",
      "XBXXXX\n",
      "\n",
      "(0, 0): 13 (0, 2): 15 (0, 3): 5 (0, 5): 5 (1, 0): 26 (1, 3): 16 (2, 0): 16 (2, 1): 18 (2, 2): 855 (2, 4): 3 (2, 5): 16 (3, 0): 3 (3, 1): 15 (3, 2): 18 (3, 5): 16 (4, 0): 18 (4, 1): 36 (4, 2): 10 (4, 3): 22 (4, 5): 35 (5, 0): 25 (5, 2): 28 (5, 3): 16 (5, 4): 15 (5, 5): 12 \n",
      "------\n",
      "Player:1\n",
      "(0, 0)\n",
      "ABXXAX\n",
      "XBAXAA\n",
      "XXBAXX\n",
      "XXXBAX\n",
      "XXXXBX\n",
      "XBXXXX\n",
      "\n",
      "(0, 0): 4490 (0, 2): 1 (0, 3): 1 (0, 5): 4294 (1, 0): 1 (1, 3): 1 (2, 0): 1 (2, 1): 1 (2, 4): 1 (2, 5): 1 (3, 0): 1 (3, 1): 4295 (3, 2): 1 (3, 5): 1 (4, 0): 1 (4, 1): 1 (4, 2): 1 (4, 3): 1 (4, 5): 1 (5, 0): 1 (5, 2): 1 (5, 3): 4295 (5, 4): 1 (5, 5): 1 \n",
      "------\n",
      "Player:-1\n",
      "(5, 5)\n",
      "ABXXAX\n",
      "XBAXAA\n",
      "XXBAXX\n",
      "XXXBAX\n",
      "XXXXBX\n",
      "XBXXXB\n",
      "\n",
      "(0, 2): 19 (0, 3): 12 (0, 5): 17 (1, 0): 21 (1, 3): 18 (2, 0): 9 (2, 1): 25 (2, 4): 6 (2, 5): 10 (3, 0): 9 (3, 1): 24 (3, 2): 15 (3, 5): 9 (4, 0): 9 (4, 1): 27 (4, 2): 29 (4, 3): 8 (4, 5): 6 (5, 0): 21 (5, 2): 17 (5, 3): 8 (5, 4): 6 (5, 5): 20705 \n"
     ]
    }
   ],
   "source": [
    "print(state.draw_board())\n",
    "print(\"------\")\n",
    "\n",
    "while True:\n",
    "    print(\"Player:{}\".format(state.currentPlayer))\n",
    "    \n",
    "    # 最適な手を探索\n",
    "    # ■ cleaver vs foolの場合\n",
    "    currentPlayer = state.getCurrentPlayer()\n",
    "    if currentPlayer == -1:\n",
    "        searcher = cleaverSearcher\n",
    "    elif currentPlayer == 1:\n",
    "        searcher = foolSearcher\n",
    "    # ■ cleaver vs cleaver の場合\n",
    "    #     searcher = cleaverSearcher\n",
    "    action = searcher.search(initialState=state)\n",
    "    print(action)\n",
    "    \n",
    "    # 最適手をプレイ\n",
    "    state = state.takeAction(action)\n",
    "    \n",
    "    # 盤面を表示\n",
    "    print(state.draw_board())\n",
    "    \n",
    "    # 子ノードの試行回数を表示\n",
    "    for action, node in searcher.root.children.items():\n",
    "        print(\"{}: {}\".format(action, node.numVisits), end = ' ')\n",
    "    print(\"\")\n",
    "    \n",
    "    # 勝敗がついていたら終了\n",
    "    if state.isTerminal():\n",
    "        break\n",
    "        \n",
    "    print(\"------\")"
   ]
  },
  {
   "cell_type": "code",
   "execution_count": 6,
   "metadata": {},
   "outputs": [],
   "source": [
    "state.board = [\n",
    "    [0,0,0,0,0],\n",
    "    [0,0,0,0,0],\n",
    "    [0,0,0,0,0],\n",
    "    [0,0,0,0,0],\n",
    "    [-1,1,-1,-1,1],\n",
    "]"
   ]
  },
  {
   "cell_type": "code",
   "execution_count": 7,
   "metadata": {},
   "outputs": [
    {
     "name": "stdout",
     "output_type": "stream",
     "text": [
      "XXXXX\n",
      "XXXXX\n",
      "XXXXX\n",
      "XXXXX\n",
      "BABBA\n",
      "\n"
     ]
    }
   ],
   "source": [
    "print(state.draw_board())"
   ]
  },
  {
   "cell_type": "code",
   "execution_count": 8,
   "metadata": {},
   "outputs": [
    {
     "data": {
      "text/plain": [
       "1"
      ]
     },
     "execution_count": 8,
     "metadata": {},
     "output_type": "execute_result"
    }
   ],
   "source": [
    "state.currentPlayer"
   ]
  },
  {
   "cell_type": "code",
   "execution_count": 9,
   "metadata": {
    "scrolled": true
   },
   "outputs": [
    {
     "data": {
      "text/plain": [
       "(3, 1)"
      ]
     },
     "execution_count": 9,
     "metadata": {},
     "output_type": "execute_result"
    }
   ],
   "source": [
    "searcher.search(state)"
   ]
  },
  {
   "cell_type": "code",
   "execution_count": 10,
   "metadata": {
    "scrolled": true
   },
   "outputs": [],
   "source": [
    "searcher.makeGraph()"
   ]
  },
  {
   "cell_type": "code",
   "execution_count": 9,
   "metadata": {},
   "outputs": [
    {
     "data": {
      "text/plain": [
       "[[0, -1, 0, 1, 0, 0],\n",
       " [0, -1, 1, -1, -1, 0],\n",
       " [1, 0, 1, 1, 0, -1],\n",
       " [-1, 1, 1, 1, 0, 0],\n",
       " [0, 1, -1, 0, 1, 0],\n",
       " [0, -1, 1, -1, 0, 0]]"
      ]
     },
     "execution_count": 9,
     "metadata": {},
     "output_type": "execute_result"
    }
   ],
   "source": [
    "initialState.board"
   ]
  },
  {
   "cell_type": "code",
   "execution_count": 10,
   "metadata": {},
   "outputs": [],
   "source": [
    "action = searcher.search(initialState=initialState)"
   ]
  },
  {
   "cell_type": "code",
   "execution_count": 5,
   "metadata": {},
   "outputs": [],
   "source": [
    "searcher.makeGraph()"
   ]
  },
  {
   "cell_type": "code",
   "execution_count": 10,
   "metadata": {},
   "outputs": [
    {
     "name": "stdout",
     "output_type": "stream",
     "text": [
      "29\n",
      "55\n",
      "46\n",
      "54\n",
      "20\n",
      "21\n",
      "33\n",
      "40\n",
      "16\n",
      "95\n",
      "159\n",
      "62\n",
      "157\n",
      "100\n",
      "293\n",
      "30\n",
      "85\n",
      "39\n",
      "143\n",
      "35\n",
      "55\n",
      "25\n",
      "28\n",
      "78\n",
      "19\n",
      "40\n",
      "57\n",
      "46\n",
      "30\n",
      "62\n",
      "45\n"
     ]
    }
   ],
   "source": [
    "for v in searcher.root.children.values():\n",
    "    print(v.numVisits)"
   ]
  },
  {
   "cell_type": "code",
   "execution_count": null,
   "metadata": {},
   "outputs": [],
   "source": [
    "def make_graph(G, nd):\n",
    "    state = nd.state\n",
    "    uct = nd.CalcUCT()\n",
    "    G.node(str(state), str(nd.rmsd_max) + '\\n' + \"{:.4}\".format(float(nd.rmsd))  + '\\n' + str(nd.ix) + ' ' + str(nd.iy) + '\\n' + str(nd.visits) + '\\n' + str(uct))\n",
    "    parent_node = nd.parentNode\n",
    "    if parent_node != None:\n",
    "        parent_state = parent_node.state\n",
    "        G.edge(str(parent_state), str(state))\n",
    "    for child_node in nd.childNodes:\n",
    "        make_graph(G,child_node)"
   ]
  },
  {
   "cell_type": "code",
   "execution_count": 7,
   "metadata": {},
   "outputs": [
    {
     "data": {
      "text/plain": [
       "'test.png'"
      ]
     },
     "execution_count": 7,
     "metadata": {},
     "output_type": "execute_result"
    }
   ],
   "source": [
    "G = Graph(format='png')\n",
    "G.attr('node', shape='circle')\n",
    "G.graph_attr.update(size=\"320\")\n",
    "G.node('a', '100')\n",
    "G.node('b', '200')\n",
    "G.edge('a', 'b')\n",
    "G.render('test')"
   ]
  },
  {
   "cell_type": "code",
   "execution_count": 48,
   "metadata": {},
   "outputs": [],
   "source": [
    "board =  [\n",
    "                    [0, 0, 0, 0, 1, 0],\n",
    "                    [1, 0, 0, 1, 0, 0],\n",
    "                    [0, 1, 1, 0, 0, 0],\n",
    "                    [0, 1, 1, 0, 0, 0],\n",
    "                    [1, 0, 0, 1, 0, 0],\n",
    "                    [0, 0, 0, 0, 0, 0]\n",
    "                ]"
   ]
  },
  {
   "cell_type": "code",
   "execution_count": 49,
   "metadata": {},
   "outputs": [],
   "source": [
    "N = 6\n",
    "K = 5\n",
    "def isTerminal(board):\n",
    "    # 上下\n",
    "    for x in range(N):\n",
    "        for y in range(N-K+1):\n",
    "            tmp = sum([board[x][y + i] for i in range(K)])\n",
    "            if abs(tmp) == K:\n",
    "                return tmp / K\n",
    "\n",
    "    # 左右\n",
    "    for y in range(N):\n",
    "        for x in range(N-K+1):\n",
    "            tmp = sum([board[x +i][y] for i in range(K)])\n",
    "            if abs(tmp) == K:\n",
    "                return tmp / K\n",
    "\n",
    "    # 左上 右下\n",
    "    for x in range(N-K+1):\n",
    "        for y in range(N-K+1):\n",
    "            tmp = sum([board[x+i][y+i] for i in range(K)])\n",
    "            if  abs(tmp) == K:\n",
    "                return tmp / K\n",
    "\n",
    "\n",
    "    # 右上 左下\n",
    "    for x in range(N-K+1):\n",
    "        for y in range(K-1, N):\n",
    "            tmp = sum([board[x+i][y-i] for i in range(K)])\n",
    "            if  abs(tmp) == K:\n",
    "                return tmp / K\n",
    "            \n",
    "    return 0"
   ]
  },
  {
   "cell_type": "code",
   "execution_count": 50,
   "metadata": {},
   "outputs": [
    {
     "data": {
      "text/plain": [
       "1.0"
      ]
     },
     "execution_count": 50,
     "metadata": {},
     "output_type": "execute_result"
    }
   ],
   "source": [
    "isTerminal(board)"
   ]
  },
  {
   "cell_type": "code",
   "execution_count": 31,
   "metadata": {},
   "outputs": [
    {
     "data": {
      "text/plain": [
       "[0, 0, 0, 0, 1]"
      ]
     },
     "execution_count": 31,
     "metadata": {},
     "output_type": "execute_result"
    }
   ],
   "source": [
    "board[0:5][4]"
   ]
  },
  {
   "cell_type": "code",
   "execution_count": 52,
   "metadata": {},
   "outputs": [
    {
     "data": {
      "text/plain": [
       "True"
      ]
     },
     "execution_count": 52,
     "metadata": {},
     "output_type": "execute_result"
    }
   ],
   "source": [
    "not 0"
   ]
  },
  {
   "cell_type": "code",
   "execution_count": null,
   "metadata": {},
   "outputs": [],
   "source": []
  }
 ],
 "metadata": {
  "kernelspec": {
   "display_name": "Python 3",
   "language": "python",
   "name": "python3"
  },
  "language_info": {
   "codemirror_mode": {
    "name": "ipython",
    "version": 3
   },
   "file_extension": ".py",
   "mimetype": "text/x-python",
   "name": "python",
   "nbconvert_exporter": "python",
   "pygments_lexer": "ipython3",
   "version": "3.8.6"
  }
 },
 "nbformat": 4,
 "nbformat_minor": 2
}

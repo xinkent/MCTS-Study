{
 "cells": [
  {
   "cell_type": "markdown",
   "metadata": {},
   "source": [
    "## MCTSを用いた五目並べの実践"
   ]
  },
  {
   "cell_type": "code",
   "execution_count": 1,
   "metadata": {},
   "outputs": [],
   "source": [
    "from __future__ import division\n",
    "\n",
    "import os\n",
    "import shutil\n",
    "from copy import deepcopy\n",
    "from tqdm import tqdm\n",
    "from mcts import mcts\n",
    "from gomoku import GomokuState\n",
    "from gravity_gomoku import GravityGomokuState\n",
    "from functools import reduce\n",
    "import operator\n",
    "import importlib\n",
    "from graphviz import Graph\n",
    "\n",
    "import numpy as np\n",
    "import matplotlib.pyplot as plt\n",
    "import seaborn as sns\n",
    "\n",
    "# %matplotlib inline"
   ]
  },
  {
   "cell_type": "markdown",
   "metadata": {},
   "source": [
    "### 五目並べ状態を設定\n",
    "- 状態にはインターフェースに沿っていれば任意のゲームを指定できる。"
   ]
  },
  {
   "cell_type": "code",
   "execution_count": 2,
   "metadata": {},
   "outputs": [],
   "source": [
    "N = 7\n",
    "K = 5\n",
    "# initialState = GravityGomokuState(N, K)\n",
    "initialState = GomokuState(N, K)"
   ]
  },
  {
   "cell_type": "markdown",
   "metadata": {},
   "source": [
    "### 探索アルゴリズムを設定\n",
    "- cleaverSearcher: MCTSによる賢いアルゴリズム  \n",
    "- foolSearhcer: UCTの探索項を0にしたアルゴリズム"
   ]
  },
  {
   "cell_type": "code",
   "execution_count": 3,
   "metadata": {},
   "outputs": [],
   "source": [
    "searcher = mcts(timeLimit=1000)\n",
    "cleaverSearcher = mcts(timeLimit=100000)\n",
    "foolSearcher = mcts(timeLimit=100000, explorationConstant=0)"
   ]
  },
  {
   "cell_type": "code",
   "execution_count": 4,
   "metadata": {},
   "outputs": [],
   "source": [
    "state = initialState"
   ]
  },
  {
   "cell_type": "code",
   "execution_count": 5,
   "metadata": {},
   "outputs": [],
   "source": [
    "state.board = [\n",
    "    [0,0,0,0,0,0,0],\n",
    "    [1,0,0,1,1,0,0],\n",
    "    [0,1,0,0,-1,0,0],\n",
    "    [0,0,-1,-1,-1,0,0],\n",
    "    [0,1,-1,0,0,0,0],\n",
    "    [0,0,0,0,0,0,0],\n",
    "     [0,0,0,0,0,0,0]\n",
    "]"
   ]
  },
  {
   "cell_type": "code",
   "execution_count": 45,
   "metadata": {
    "scrolled": true
   },
   "outputs": [
    {
     "name": "stdout",
     "output_type": "stream",
     "text": [
      "\u001b[38;2;255;255;255m○\u001b[0m\u001b[38;2;255;255;255m○\u001b[0m\u001b[38;2;255;255;255m○\u001b[0m\u001b[38;2;255;255;255m○\u001b[0m\u001b[38;2;255;255;255m○\u001b[0m\u001b[38;2;255;255;255m○\u001b[0m\u001b[38;2;255;255;255m○\u001b[0m\n",
      "●\u001b[38;2;255;255;255m○\u001b[0m\u001b[38;2;255;255;255m○\u001b[0m●●\u001b[38;2;255;255;255m○\u001b[0m\u001b[38;2;255;255;255m○\u001b[0m\n",
      "\u001b[38;2;255;255;255m○\u001b[0m●\u001b[38;2;255;255;255m○\u001b[0m\u001b[38;2;255;255;255m○\u001b[0m○\u001b[38;2;255;255;255m○\u001b[0m\u001b[38;2;255;255;255m○\u001b[0m\n",
      "\u001b[38;2;255;255;255m○\u001b[0m\u001b[38;2;255;255;255m○\u001b[0m○○○\u001b[38;2;255;255;255m○\u001b[0m\u001b[38;2;255;255;255m○\u001b[0m\n",
      "\u001b[38;2;255;255;255m○\u001b[0m●○\u001b[38;2;255;255;255m○\u001b[0m\u001b[38;2;255;255;255m○\u001b[0m\u001b[38;2;255;255;255m○\u001b[0m\u001b[38;2;255;255;255m○\u001b[0m\n",
      "\u001b[38;2;255;255;255m○\u001b[0m\u001b[38;2;255;255;255m○\u001b[0m\u001b[38;2;255;255;255m○\u001b[0m\u001b[38;2;255;255;255m○\u001b[0m\u001b[38;2;255;255;255m○\u001b[0m\u001b[38;2;255;255;255m○\u001b[0m\u001b[38;2;255;255;255m○\u001b[0m\n",
      "\u001b[38;2;255;255;255m○\u001b[0m\u001b[38;2;255;255;255m○\u001b[0m\u001b[38;2;255;255;255m○\u001b[0m\u001b[38;2;255;255;255m○\u001b[0m\u001b[38;2;255;255;255m○\u001b[0m\u001b[38;2;255;255;255m○\u001b[0m\u001b[38;2;255;255;255m○\u001b[0m\n",
      "\n",
      "------\n",
      "Player:1\n",
      "(1, 1)\n",
      "\u001b[38;2;255;255;255m○\u001b[0m\u001b[38;2;255;255;255m○\u001b[0m\u001b[38;2;255;255;255m○\u001b[0m\u001b[38;2;255;255;255m○\u001b[0m\u001b[38;2;255;255;255m○\u001b[0m\u001b[38;2;255;255;255m○\u001b[0m\u001b[38;2;255;255;255m○\u001b[0m\n",
      "●●\u001b[38;2;255;255;255m○\u001b[0m●●\u001b[38;2;255;255;255m○\u001b[0m\u001b[38;2;255;255;255m○\u001b[0m\n",
      "\u001b[38;2;255;255;255m○\u001b[0m●\u001b[38;2;255;255;255m○\u001b[0m\u001b[38;2;255;255;255m○\u001b[0m○\u001b[38;2;255;255;255m○\u001b[0m\u001b[38;2;255;255;255m○\u001b[0m\n",
      "\u001b[38;2;255;255;255m○\u001b[0m\u001b[38;2;255;255;255m○\u001b[0m○○○\u001b[38;2;255;255;255m○\u001b[0m\u001b[38;2;255;255;255m○\u001b[0m\n",
      "\u001b[38;2;255;255;255m○\u001b[0m●○\u001b[38;2;255;255;255m○\u001b[0m\u001b[38;2;255;255;255m○\u001b[0m\u001b[38;2;255;255;255m○\u001b[0m\u001b[38;2;255;255;255m○\u001b[0m\n",
      "\u001b[38;2;255;255;255m○\u001b[0m\u001b[38;2;255;255;255m○\u001b[0m\u001b[38;2;255;255;255m○\u001b[0m\u001b[38;2;255;255;255m○\u001b[0m\u001b[38;2;255;255;255m○\u001b[0m\u001b[38;2;255;255;255m○\u001b[0m\u001b[38;2;255;255;255m○\u001b[0m\n",
      "\u001b[38;2;255;255;255m○\u001b[0m\u001b[38;2;255;255;255m○\u001b[0m\u001b[38;2;255;255;255m○\u001b[0m\u001b[38;2;255;255;255m○\u001b[0m\u001b[38;2;255;255;255m○\u001b[0m\u001b[38;2;255;255;255m○\u001b[0m\u001b[38;2;255;255;255m○\u001b[0m\n",
      "\n",
      "(0, 0): 15 (0, 1): 47 (0, 2): 159 (0, 3): 19 (0, 4): 61 (0, 5): 26 (0, 6): 86 (1, 1): 109392 (1, 2): 861 (1, 5): 94 (1, 6): 146 (2, 0): 91 (2, 2): 72 (2, 3): 38 (2, 5): 11 (2, 6): 41 (3, 0): 50 (3, 1): 328 (3, 5): 11 (3, 6): 11 (4, 0): 58 (4, 3): 110 (4, 4): 70 (4, 5): 32 (4, 6): 22 (5, 0): 56 (5, 1): 279 (5, 2): 64 (5, 3): 128 (5, 4): 75 (5, 5): 44 (5, 6): 44 (6, 0): 11 (6, 1): 41 (6, 2): 50 (6, 3): 19 (6, 4): 53 (6, 5): 22 (6, 6): 15 \n",
      "------\n",
      "Player:-1\n"
     ]
    },
    {
     "ename": "KeyboardInterrupt",
     "evalue": "",
     "output_type": "error",
     "traceback": [
      "\u001b[0;31m---------------------------------------------------------------------------\u001b[0m",
      "\u001b[0;31mKeyboardInterrupt\u001b[0m                         Traceback (most recent call last)",
      "\u001b[0;32m<ipython-input-45-ff20cede16e5>\u001b[0m in \u001b[0;36m<module>\u001b[0;34m\u001b[0m\n\u001b[1;32m     14\u001b[0m     \u001b[0;31m# ■ cleaver vs cleaver の場合\u001b[0m\u001b[0;34m\u001b[0m\u001b[0;34m\u001b[0m\u001b[0;34m\u001b[0m\u001b[0m\n\u001b[1;32m     15\u001b[0m     \u001b[0msearcher\u001b[0m \u001b[0;34m=\u001b[0m \u001b[0mcleaverSearcher\u001b[0m\u001b[0;34m\u001b[0m\u001b[0;34m\u001b[0m\u001b[0m\n\u001b[0;32m---> 16\u001b[0;31m     \u001b[0maction\u001b[0m \u001b[0;34m=\u001b[0m \u001b[0msearcher\u001b[0m\u001b[0;34m.\u001b[0m\u001b[0msearch\u001b[0m\u001b[0;34m(\u001b[0m\u001b[0minitialState\u001b[0m\u001b[0;34m=\u001b[0m\u001b[0mstate\u001b[0m\u001b[0;34m)\u001b[0m\u001b[0;34m\u001b[0m\u001b[0;34m\u001b[0m\u001b[0m\n\u001b[0m\u001b[1;32m     17\u001b[0m     \u001b[0mprint\u001b[0m\u001b[0;34m(\u001b[0m\u001b[0maction\u001b[0m\u001b[0;34m)\u001b[0m\u001b[0;34m\u001b[0m\u001b[0;34m\u001b[0m\u001b[0m\n\u001b[1;32m     18\u001b[0m \u001b[0;34m\u001b[0m\u001b[0m\n",
      "\u001b[0;32m~/work/gomoku/mcts.py\u001b[0m in \u001b[0;36msearch\u001b[0;34m(self, initialState, needDetails)\u001b[0m\n\u001b[1;32m     64\u001b[0m             \u001b[0mtimeLimit\u001b[0m \u001b[0;34m=\u001b[0m \u001b[0mtime\u001b[0m\u001b[0;34m.\u001b[0m\u001b[0mtime\u001b[0m\u001b[0;34m(\u001b[0m\u001b[0;34m)\u001b[0m \u001b[0;34m+\u001b[0m \u001b[0mself\u001b[0m\u001b[0;34m.\u001b[0m\u001b[0mtimeLimit\u001b[0m \u001b[0;34m/\u001b[0m \u001b[0;36m1000\u001b[0m\u001b[0;34m\u001b[0m\u001b[0;34m\u001b[0m\u001b[0m\n\u001b[1;32m     65\u001b[0m             \u001b[0;32mwhile\u001b[0m \u001b[0mtime\u001b[0m\u001b[0;34m.\u001b[0m\u001b[0mtime\u001b[0m\u001b[0;34m(\u001b[0m\u001b[0;34m)\u001b[0m \u001b[0;34m<\u001b[0m \u001b[0mtimeLimit\u001b[0m\u001b[0;34m:\u001b[0m\u001b[0;34m\u001b[0m\u001b[0;34m\u001b[0m\u001b[0m\n\u001b[0;32m---> 66\u001b[0;31m                 \u001b[0mself\u001b[0m\u001b[0;34m.\u001b[0m\u001b[0mexecuteRound\u001b[0m\u001b[0;34m(\u001b[0m\u001b[0;34m)\u001b[0m\u001b[0;34m\u001b[0m\u001b[0;34m\u001b[0m\u001b[0m\n\u001b[0m\u001b[1;32m     67\u001b[0m         \u001b[0;32melse\u001b[0m\u001b[0;34m:\u001b[0m\u001b[0;34m\u001b[0m\u001b[0;34m\u001b[0m\u001b[0m\n\u001b[1;32m     68\u001b[0m             \u001b[0;32mfor\u001b[0m \u001b[0mi\u001b[0m \u001b[0;32min\u001b[0m \u001b[0mrange\u001b[0m\u001b[0;34m(\u001b[0m\u001b[0mself\u001b[0m\u001b[0;34m.\u001b[0m\u001b[0msearchLimit\u001b[0m\u001b[0;34m)\u001b[0m\u001b[0;34m:\u001b[0m\u001b[0;34m\u001b[0m\u001b[0;34m\u001b[0m\u001b[0m\n",
      "\u001b[0;32m~/work/gomoku/mcts.py\u001b[0m in \u001b[0;36mexecuteRound\u001b[0;34m(self)\u001b[0m\n\u001b[1;32m     83\u001b[0m         \"\"\"\n\u001b[1;32m     84\u001b[0m         \u001b[0mnode\u001b[0m \u001b[0;34m=\u001b[0m \u001b[0mself\u001b[0m\u001b[0;34m.\u001b[0m\u001b[0mselectNode\u001b[0m\u001b[0;34m(\u001b[0m\u001b[0mself\u001b[0m\u001b[0;34m.\u001b[0m\u001b[0mroot\u001b[0m\u001b[0;34m)\u001b[0m\u001b[0;34m\u001b[0m\u001b[0;34m\u001b[0m\u001b[0m\n\u001b[0;32m---> 85\u001b[0;31m         \u001b[0mreward\u001b[0m \u001b[0;34m=\u001b[0m \u001b[0mself\u001b[0m\u001b[0;34m.\u001b[0m\u001b[0mrollout\u001b[0m\u001b[0;34m(\u001b[0m\u001b[0mnode\u001b[0m\u001b[0;34m.\u001b[0m\u001b[0mstate\u001b[0m\u001b[0;34m)\u001b[0m\u001b[0;34m\u001b[0m\u001b[0;34m\u001b[0m\u001b[0m\n\u001b[0m\u001b[1;32m     86\u001b[0m         \u001b[0mself\u001b[0m\u001b[0;34m.\u001b[0m\u001b[0mbackpropogate\u001b[0m\u001b[0;34m(\u001b[0m\u001b[0mnode\u001b[0m\u001b[0;34m,\u001b[0m \u001b[0mreward\u001b[0m\u001b[0;34m)\u001b[0m\u001b[0;34m\u001b[0m\u001b[0;34m\u001b[0m\u001b[0m\n\u001b[1;32m     87\u001b[0m \u001b[0;34m\u001b[0m\u001b[0m\n",
      "\u001b[0;32m~/work/gomoku/mcts.py\u001b[0m in \u001b[0;36mrandomPolicy\u001b[0;34m(state)\u001b[0m\n\u001b[1;32m     15\u001b[0m             \u001b[0;32mraise\u001b[0m \u001b[0mException\u001b[0m\u001b[0;34m(\u001b[0m\u001b[0;34m\"Non-terminal state has no possible actions: \"\u001b[0m \u001b[0;34m+\u001b[0m \u001b[0mstr\u001b[0m\u001b[0;34m(\u001b[0m\u001b[0mstate\u001b[0m\u001b[0;34m)\u001b[0m\u001b[0;34m)\u001b[0m\u001b[0;34m\u001b[0m\u001b[0;34m\u001b[0m\u001b[0m\n\u001b[1;32m     16\u001b[0m         \u001b[0mstate\u001b[0m \u001b[0;34m=\u001b[0m \u001b[0mstate\u001b[0m\u001b[0;34m.\u001b[0m\u001b[0mtakeAction\u001b[0m\u001b[0;34m(\u001b[0m\u001b[0maction\u001b[0m\u001b[0;34m)\u001b[0m\u001b[0;34m\u001b[0m\u001b[0;34m\u001b[0m\u001b[0m\n\u001b[0;32m---> 17\u001b[0;31m         \u001b[0mterminal_state\u001b[0m \u001b[0;34m=\u001b[0m \u001b[0mstate\u001b[0m\u001b[0;34m.\u001b[0m\u001b[0misTerminal\u001b[0m\u001b[0;34m(\u001b[0m\u001b[0;34m)\u001b[0m\u001b[0;34m\u001b[0m\u001b[0;34m\u001b[0m\u001b[0m\n\u001b[0m\u001b[1;32m     18\u001b[0m     \u001b[0mterminal_reward\u001b[0m \u001b[0;34m=\u001b[0m \u001b[0;36m0\u001b[0m \u001b[0;32mif\u001b[0m \u001b[0mterminal_state\u001b[0m \u001b[0;34m==\u001b[0m \u001b[0;36m2\u001b[0m \u001b[0;32melse\u001b[0m \u001b[0mterminal_state\u001b[0m\u001b[0;34m\u001b[0m\u001b[0;34m\u001b[0m\u001b[0m\n\u001b[1;32m     19\u001b[0m     \u001b[0;32mreturn\u001b[0m \u001b[0mterminal_reward\u001b[0m\u001b[0;34m\u001b[0m\u001b[0;34m\u001b[0m\u001b[0m\n",
      "\u001b[0;32m~/work/gomoku/gomoku.py\u001b[0m in \u001b[0;36misTerminal\u001b[0;34m(self)\u001b[0m\n\u001b[1;32m     62\u001b[0m         \u001b[0;31m# 右上 左下\u001b[0m\u001b[0;34m\u001b[0m\u001b[0;34m\u001b[0m\u001b[0;34m\u001b[0m\u001b[0m\n\u001b[1;32m     63\u001b[0m         \u001b[0;32mfor\u001b[0m \u001b[0mx\u001b[0m \u001b[0;32min\u001b[0m \u001b[0mrange\u001b[0m\u001b[0;34m(\u001b[0m\u001b[0mself\u001b[0m\u001b[0;34m.\u001b[0m\u001b[0mN\u001b[0m\u001b[0;34m-\u001b[0m\u001b[0mself\u001b[0m\u001b[0;34m.\u001b[0m\u001b[0mK\u001b[0m\u001b[0;34m+\u001b[0m\u001b[0;36m1\u001b[0m\u001b[0;34m)\u001b[0m\u001b[0;34m:\u001b[0m\u001b[0;34m\u001b[0m\u001b[0;34m\u001b[0m\u001b[0m\n\u001b[0;32m---> 64\u001b[0;31m             \u001b[0;32mfor\u001b[0m \u001b[0my\u001b[0m \u001b[0;32min\u001b[0m \u001b[0mrange\u001b[0m\u001b[0;34m(\u001b[0m\u001b[0mself\u001b[0m\u001b[0;34m.\u001b[0m\u001b[0mK\u001b[0m\u001b[0;34m-\u001b[0m\u001b[0;36m1\u001b[0m\u001b[0;34m,\u001b[0m \u001b[0mself\u001b[0m\u001b[0;34m.\u001b[0m\u001b[0mN\u001b[0m\u001b[0;34m)\u001b[0m\u001b[0;34m:\u001b[0m\u001b[0;34m\u001b[0m\u001b[0;34m\u001b[0m\u001b[0m\n\u001b[0m\u001b[1;32m     65\u001b[0m                 \u001b[0mtmp\u001b[0m \u001b[0;34m=\u001b[0m \u001b[0msum\u001b[0m\u001b[0;34m(\u001b[0m\u001b[0;34m[\u001b[0m\u001b[0mself\u001b[0m\u001b[0;34m.\u001b[0m\u001b[0mboard\u001b[0m\u001b[0;34m[\u001b[0m\u001b[0mx\u001b[0m\u001b[0;34m+\u001b[0m\u001b[0mi\u001b[0m\u001b[0;34m]\u001b[0m\u001b[0;34m[\u001b[0m\u001b[0my\u001b[0m\u001b[0;34m-\u001b[0m\u001b[0mi\u001b[0m\u001b[0;34m]\u001b[0m \u001b[0;32mfor\u001b[0m \u001b[0mi\u001b[0m \u001b[0;32min\u001b[0m \u001b[0mrange\u001b[0m\u001b[0;34m(\u001b[0m\u001b[0mself\u001b[0m\u001b[0;34m.\u001b[0m\u001b[0mK\u001b[0m\u001b[0;34m)\u001b[0m\u001b[0;34m]\u001b[0m\u001b[0;34m)\u001b[0m\u001b[0;34m\u001b[0m\u001b[0;34m\u001b[0m\u001b[0m\n\u001b[1;32m     66\u001b[0m                 \u001b[0;32mif\u001b[0m \u001b[0mabs\u001b[0m\u001b[0;34m(\u001b[0m\u001b[0mtmp\u001b[0m\u001b[0;34m)\u001b[0m \u001b[0;34m==\u001b[0m \u001b[0mself\u001b[0m\u001b[0;34m.\u001b[0m\u001b[0mK\u001b[0m\u001b[0;34m:\u001b[0m\u001b[0;34m\u001b[0m\u001b[0;34m\u001b[0m\u001b[0m\n",
      "\u001b[0;31mKeyboardInterrupt\u001b[0m: "
     ]
    }
   ],
   "source": [
    "print(state.draw_board())\n",
    "print(\"------\")\n",
    "\n",
    "while True:\n",
    "    print(\"Player:{}\".format(state.currentPlayer))\n",
    "    \n",
    "    # 最適な手を探索\n",
    "    # ■ cleaver vs foolの場合\n",
    "#     currentPlayer = state.getCurrentPlayer()\n",
    "#     if currentPlayer == 1:\n",
    "#         searcher = cleaverSearcher\n",
    "#     elif currentPlayer == -1:\n",
    "#         searcher = foolSearcher\n",
    "    # ■ cleaver vs cleaver の場合\n",
    "    searcher = cleaverSearcher\n",
    "    action = searcher.search(initialState=state)\n",
    "    print(action)\n",
    "    \n",
    "    # 最適手をプレイ\n",
    "    state = state.takeAction(action)\n",
    "    \n",
    "    # 盤面を表示\n",
    "    print(state.draw_board())\n",
    "    \n",
    "    # 子ノードの試行回数を表示\n",
    "    for action, node in searcher.root.children.items():\n",
    "        print(\"{}: {}\".format(action, node.numVisits), end = ' ')\n",
    "    print(\"\")\n",
    "    \n",
    "    # 勝敗がついていたら終了\n",
    "    if state.isTerminal():\n",
    "        break\n",
    "        \n",
    "    print(\"------\")"
   ]
  },
  {
   "cell_type": "code",
   "execution_count": null,
   "metadata": {},
   "outputs": [],
   "source": []
  },
  {
   "cell_type": "code",
   "execution_count": 19,
   "metadata": {},
   "outputs": [],
   "source": [
    "state.board = [\n",
    "    [0,0,0,0,0,0,0],\n",
    "    [1,0,0,1,1,0,0],\n",
    "    [0,1,0,0,-1,0,0],\n",
    "    [0,0,-1,-1,-1,0,0],\n",
    "    [0,1,-1,0,0,0,0],\n",
    "    [0,0,0,0,0,0,0],\n",
    "     [0,0,0,0,0,0,0]\n",
    "]"
   ]
  },
  {
   "cell_type": "code",
   "execution_count": 12,
   "metadata": {},
   "outputs": [
    {
     "name": "stdout",
     "output_type": "stream",
     "text": [
      "\u001b[38;2;255;255;255m○\u001b[0m\u001b[38;2;255;255;255m○\u001b[0m\u001b[38;2;255;255;255m○\u001b[0m\u001b[38;2;255;255;255m○\u001b[0m\u001b[38;2;255;255;255m○\u001b[0m\u001b[38;2;255;255;255m○\u001b[0m\u001b[38;2;255;255;255m○\u001b[0m\n",
      "●\u001b[38;2;255;255;255m○\u001b[0m\u001b[38;2;255;255;255m○\u001b[0m●●\u001b[38;2;255;255;255m○\u001b[0m\u001b[38;2;255;255;255m○\u001b[0m\n",
      "\u001b[38;2;255;255;255m○\u001b[0m●\u001b[38;2;255;255;255m○\u001b[0m\u001b[38;2;255;255;255m○\u001b[0m○\u001b[38;2;255;255;255m○\u001b[0m\u001b[38;2;255;255;255m○\u001b[0m\n",
      "\u001b[38;2;255;255;255m○\u001b[0m\u001b[38;2;255;255;255m○\u001b[0m○○○\u001b[38;2;255;255;255m○\u001b[0m\u001b[38;2;255;255;255m○\u001b[0m\n",
      "\u001b[38;2;255;255;255m○\u001b[0m●○\u001b[38;2;255;255;255m○\u001b[0m\u001b[38;2;255;255;255m○\u001b[0m\u001b[38;2;255;255;255m○\u001b[0m\u001b[38;2;255;255;255m○\u001b[0m\n",
      "\u001b[38;2;255;255;255m○\u001b[0m\u001b[38;2;255;255;255m○\u001b[0m\u001b[38;2;255;255;255m○\u001b[0m\u001b[38;2;255;255;255m○\u001b[0m\u001b[38;2;255;255;255m○\u001b[0m\u001b[38;2;255;255;255m○\u001b[0m\u001b[38;2;255;255;255m○\u001b[0m\n",
      "\u001b[38;2;255;255;255m○\u001b[0m\u001b[38;2;255;255;255m○\u001b[0m\u001b[38;2;255;255;255m○\u001b[0m\u001b[38;2;255;255;255m○\u001b[0m\u001b[38;2;255;255;255m○\u001b[0m\u001b[38;2;255;255;255m○\u001b[0m\u001b[38;2;255;255;255m○\u001b[0m\n",
      "\n"
     ]
    }
   ],
   "source": [
    "print(state.draw_board())"
   ]
  },
  {
   "cell_type": "markdown",
   "metadata": {},
   "source": [
    "## 詰め五目実験"
   ]
  },
  {
   "cell_type": "code",
   "execution_count": 7,
   "metadata": {},
   "outputs": [],
   "source": [
    "state = initialState\n",
    "state.board = [\n",
    "    [0,0,0,0,0,0,0],\n",
    "    [1,0,0,1,1,0,0],\n",
    "    [0,1,0,0,-1,0,0],\n",
    "    [0,0,-1,-1,-1,0,0],\n",
    "    [0,1,-1,0,0,0,0],\n",
    "    [0,0,0,0,0,0,0],\n",
    "     [0,0,0,0,0,0,0]\n",
    "]"
   ]
  },
  {
   "cell_type": "code",
   "execution_count": 23,
   "metadata": {},
   "outputs": [
    {
     "name": "stderr",
     "output_type": "stream",
     "text": [
      "100%|██████████| 100/100 [01:31<00:00,  1.09it/s]\n"
     ]
    }
   ],
   "source": [
    "searcher = mcts(iterationLimit=100)\n",
    "out_path = './experiment'\n",
    "if os.path.exists(out_path):\n",
    "    shutil.rmtree(out_path)\n",
    "os.mkdir(out_path)\n",
    "    \n",
    "\n",
    "searcher.search(initialState=state)\n",
    "iter_num = 100\n",
    "\n",
    "for _ in tqdm(range(100)):\n",
    "    searcher.search(initialState=state, continuous=True)\n",
    "    visits_mat = np.zeros([searcher.root.state.N, searcher.root.state.N])\n",
    "    for a, v in searcher.root.children.items():\n",
    "        visits_mat[a.x, a.y] = v.numVisits\n",
    "\n",
    "    #  print(visits_mat)\n",
    "    iter_num += 100 \n",
    "    plt.figure(figsize = (12, 12))\n",
    "    sns.heatmap(visits_mat, cmap = \"OrRd\", annot=True, annot_kws={'size':22, 'weight':'bold'}, fmt = '.4g', cbar=False)\n",
    "    plt.savefig(\"./experiment/iter_{}.png\".format(iter_num))\n",
    "    plt.close()"
   ]
  },
  {
   "cell_type": "code",
   "execution_count": 63,
   "metadata": {},
   "outputs": [],
   "source": [
    "action = searcher.search(initialState=initialState)"
   ]
  },
  {
   "cell_type": "code",
   "execution_count": 12,
   "metadata": {
    "scrolled": true
   },
   "outputs": [
    {
     "data": {
      "image/png": "[encoded data removed]",
      "text/plain": [
       "<Figure size 864x864 with 2 Axes>"
      ]
     },
     "metadata": {
      "needs_background": "light"
     },
     "output_type": "display_data"
    }
   ],
   "source": [
    "visits_mat = np.zeros([searcher.root.state.N, searcher.root.state.N])\n",
    "plt.figure(figsize = (12, 12))\n",
    "sns.heatmap(visits_mat, cmap = \"OrRd\")\n",
    "plt.savefig(\"./experiment/iter_0.png\".format(iter_num))\n",
    "# plt.close()"
   ]
  },
  {
   "cell_type": "code",
   "execution_count": null,
   "metadata": {},
   "outputs": [],
   "source": [
    "searcher.rooot.childre"
   ]
  },
  {
   "cell_type": "code",
   "execution_count": 11,
   "metadata": {},
   "outputs": [
    {
     "name": "stdout",
     "output_type": "stream",
     "text": [
      "\u001b[38;2;255;255;255m○\u001b[0m\n"
     ]
    }
   ],
   "source": [
    "print('\\033[38;2;255;255;255m○\\033[0m' )"
   ]
  },
  {
   "cell_type": "code",
   "execution_count": null,
   "metadata": {},
   "outputs": [],
   "source": [
    "def make_graph(G, nd):\n",
    "    state = nd.state\n",
    "    uct = nd.CalcUCT()\n",
    "    G.node(str(state), str(nd.rmsd_max) + '\\n' + \"{:.4}\".format(float(nd.rmsd))  + '\\n' + str(nd.ix) + ' ' + str(nd.iy) + '\\n' + str(nd.visits) + '\\n' + str(uct))\n",
    "    parent_node = nd.parentNode\n",
    "    if parent_node != None:\n",
    "        parent_state = parent_node.state\n",
    "        G.edge(str(parent_state), str(state))\n",
    "    for child_node in nd.childNodes:\n",
    "        make_graph(G,child_node)"
   ]
  },
  {
   "cell_type": "code",
   "execution_count": 7,
   "metadata": {},
   "outputs": [
    {
     "data": {
      "text/plain": [
       "'test.png'"
      ]
     },
     "execution_count": 7,
     "metadata": {},
     "output_type": "execute_result"
    }
   ],
   "source": [
    "G = Graph(format='png')\n",
    "G.attr('node', shape='circle')\n",
    "G.graph_attr.update(size=\"320\")\n",
    "G.node('a', '100')\n",
    "G.node('b', '200')\n",
    "G.edge('a', 'b')\n",
    "G.render('test')"
   ]
  },
  {
   "cell_type": "code",
   "execution_count": 48,
   "metadata": {},
   "outputs": [],
   "source": [
    "board =  [\n",
    "                    [0, 0, 0, 0, 1, 0],\n",
    "                    [1, 0, 0, 1, 0, 0],\n",
    "                    [0, 1, 1, 0, 0, 0],\n",
    "                    [0, 1, 1, 0, 0, 0],\n",
    "                    [1, 0, 0, 1, 0, 0],\n",
    "                    [0, 0, 0, 0, 0, 0]\n",
    "                ]"
   ]
  },
  {
   "cell_type": "code",
   "execution_count": 49,
   "metadata": {},
   "outputs": [],
   "source": [
    "N = 6\n",
    "K = 5\n",
    "def isTerminal(board):\n",
    "    # 上下\n",
    "    for x in range(N):\n",
    "        for y in range(N-K+1):\n",
    "            tmp = sum([board[x][y + i] for i in range(K)])\n",
    "            if abs(tmp) == K:\n",
    "                return tmp / K\n",
    "\n",
    "    # 左右\n",
    "    for y in range(N):\n",
    "        for x in range(N-K+1):\n",
    "            tmp = sum([board[x +i][y] for i in range(K)])\n",
    "            if abs(tmp) == K:\n",
    "                return tmp / K\n",
    "\n",
    "    # 左上 右下\n",
    "    for x in range(N-K+1):\n",
    "        for y in range(N-K+1):\n",
    "            tmp = sum([board[x+i][y+i] for i in range(K)])\n",
    "            if  abs(tmp) == K:\n",
    "                return tmp / K\n",
    "\n",
    "\n",
    "    # 右上 左下\n",
    "    for x in range(N-K+1):\n",
    "        for y in range(K-1, N):\n",
    "            tmp = sum([board[x+i][y-i] for i in range(K)])\n",
    "            if  abs(tmp) == K:\n",
    "                return tmp / K\n",
    "            \n",
    "    return 0"
   ]
  },
  {
   "cell_type": "code",
   "execution_count": 50,
   "metadata": {},
   "outputs": [
    {
     "data": {
      "text/plain": [
       "1.0"
      ]
     },
     "execution_count": 50,
     "metadata": {},
     "output_type": "execute_result"
    }
   ],
   "source": [
    "isTerminal(board)"
   ]
  },
  {
   "cell_type": "code",
   "execution_count": 31,
   "metadata": {},
   "outputs": [
    {
     "data": {
      "text/plain": [
       "[0, 0, 0, 0, 1]"
      ]
     },
     "execution_count": 31,
     "metadata": {},
     "output_type": "execute_result"
    }
   ],
   "source": [
    "board[0:5][4]"
   ]
  },
  {
   "cell_type": "code",
   "execution_count": 52,
   "metadata": {},
   "outputs": [
    {
     "data": {
      "text/plain": [
       "True"
      ]
     },
     "execution_count": 52,
     "metadata": {},
     "output_type": "execute_result"
    }
   ],
   "source": [
    "not 0"
   ]
  },
  {
   "cell_type": "code",
   "execution_count": null,
   "metadata": {},
   "outputs": [],
   "source": []
  }
 ],
 "metadata": {
  "kernelspec": {
   "display_name": "Python 3",
   "language": "python",
   "name": "python3"
  },
  "language_info": {
   "codemirror_mode": {
    "name": "ipython",
    "version": 3
   },
   "file_extension": ".py",
   "mimetype": "text/x-python",
   "name": "python",
   "nbconvert_exporter": "python",
   "pygments_lexer": "ipython3",
   "version": "3.8.6"
  }
 },
 "nbformat": 4,
 "nbformat_minor": 2
}

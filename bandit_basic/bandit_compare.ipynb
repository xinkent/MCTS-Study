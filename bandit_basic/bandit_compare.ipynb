{
 "cells": [
  {
   "cell_type": "markdown",
   "metadata": {},
   "source": [
    "# バンディット問題の戦略別パフォーマンス比較"
   ]
  },
  {
   "cell_type": "markdown",
   "metadata": {},
   "source": [
    "### 概要\n",
    "ベーシックな多腕バンディット問題に対して、下記それぞれの戦略での結果を比較する。\n",
    "1. 完全ランダム\n",
    "2. Greedy\n",
    "3. ε-Greedy (εは適当に定める)\n",
    "4. UCT\n",
    "\n",
    "### 参考\n",
    "https://zenn.dev/5nta/articles/78361b28d414b54df29b"
   ]
  },
  {
   "cell_type": "code",
   "execution_count": 675,
   "metadata": {},
   "outputs": [],
   "source": [
    "from numpy.random import binomial\n",
    "import numpy as np\n",
    "import pandas as pd\n",
    "import matplotlib.pyplot as plt\n",
    "import math\n",
    "import seaborn as sns\n",
    "from tqdm import tqdm"
   ]
  },
  {
   "cell_type": "markdown",
   "metadata": {},
   "source": [
    "### アーム"
   ]
  },
  {
   "cell_type": "code",
   "execution_count": 56,
   "metadata": {},
   "outputs": [],
   "source": [
    "# p: 成功確率\n",
    "class Arm:\n",
    "    def __init__(self, p):\n",
    "        self._p = p\n",
    "        self.success = 0\n",
    "        self.fail = 0\n",
    "\n",
    "    def play(self):\n",
    "        result = binomial(n=1, p=self._p)\n",
    "        if result == 1:\n",
    "            self.success += 1\n",
    "        else:\n",
    "            self.fail += 1\n",
    "        return result\n",
    "    \n",
    "    def visits(self):\n",
    "        return self.success + self.fail\n",
    "    \n",
    "    def success_ratio(self):\n",
    "        if self.visits() == 0:\n",
    "            return 0\n",
    "        return self.success / self.visits()"
   ]
  },
  {
   "cell_type": "markdown",
   "metadata": {},
   "source": [
    "## 各アルゴリズムの実装"
   ]
  },
  {
   "cell_type": "code",
   "execution_count": 57,
   "metadata": {},
   "outputs": [],
   "source": [
    "def calc_success_ratio(arm):\n",
    "    if arm.success + arm.fail == 0:\n",
    "        return 0\n",
    "    return arm.success / (arm.success + arm.fail)"
   ]
  },
  {
   "cell_type": "code",
   "execution_count": 659,
   "metadata": {},
   "outputs": [],
   "source": [
    "class Player:\n",
    "    def __init__(self, p_list, n_list, T, method, epsilon=0.1):\n",
    "        self.arms = []\n",
    "        self.n_list = n_list\n",
    "        self.p_list = p_list\n",
    "        for p, n in zip(p_list, n_list):\n",
    "            for _ in range(n):\n",
    "                self.arms.append(Arm(p))\n",
    "        self.t = 0\n",
    "        self.T = T\n",
    "        self.sum_reward = 0\n",
    "        self.method = method\n",
    "        self.greedy_trial = 1\n",
    "        self.epsilon = epsilon\n",
    "        self.N = sum(n_list)\n",
    "        self.mean_rewards = []\n",
    "        \n",
    "    def init(self):\n",
    "        self.arms = []\n",
    "        for p, n in zip(self.p_list, self.n_list):\n",
    "            for _ in range(n):\n",
    "                self.arms.append(Arm(p))\n",
    "        self.t = 0\n",
    "        self.T = self.T\n",
    "        self.sum_reward = 0\n",
    "        self.method = self.method\n",
    "        self.greedy_trial = 1\n",
    "        self.epsilon = self.epsilon\n",
    "        self.N = sum(self.n_list)    \n",
    "        self.mean_rewards = []\n",
    "        \n",
    "    def execute(self):\n",
    "        while self.t < self.T:\n",
    "            self.play()\n",
    "        return self.mean_rewards[-1]\n",
    "        \n",
    "    def play(self):\n",
    "        selected_idx = eval(\"self.\" + self.method)()\n",
    "        self.sum_reward += self.arms[selected_idx].play()\n",
    "        if len(self.mean_rewards) == 0:\n",
    "            self.mean_rewards = [self.sum_reward/ (self.t + 1)]\n",
    "        else:\n",
    "            self.mean_rewards.append(self.sum_reward / (self.t + 1))\n",
    "        # print(self.mean_rewards)\n",
    "        self.t += 1\n",
    "    \n",
    "    def random(self):\n",
    "        idx = np.random.randint(0,self.N)\n",
    "        return idx\n",
    "    \n",
    "    def greedy(self):\n",
    "        if self.t < self.N * self.greedy_trial:\n",
    "            idxs = [i for i, arm in enumerate(self.arms) if arm.visits() < self.greedy_trial]\n",
    "            return np.random.choice(idxs)\n",
    "        else:\n",
    "            return self.select_best_arm()\n",
    "    \n",
    "    def epsilon_greedy(self):\n",
    "        if self.t < self.N * self.greedy_trial:\n",
    "            idxs = [i for i, arm in enumerate(self.arms) if arm.visits() < self.greedy_trial]\n",
    "            return np.random.choice(idxs)\n",
    "        else:\n",
    "            if binomial(n=1, p=self.epsilon) == 1:\n",
    "                # 探索ステップ : アームを一様ランダムに選ぶ\n",
    "                idx = np.random.randint(0,self.N)\n",
    "                return idx\n",
    "            else:\n",
    "                return self.select_best_arm()\n",
    "            \n",
    "    def ucb(self):\n",
    "        if self.t < self.N:\n",
    "            idxs = [i for i, arm in enumerate(self.arms) if arm.visits() < 1]\n",
    "            return np.random.choice(idxs)\n",
    "        else:\n",
    "            avgs = [ self.calc_ucb(arm) for arm in self.arms]\n",
    "            idx = avgs.index(max(avgs))\n",
    "            return idx\n",
    "        \n",
    "    def select_best_arm(self):\n",
    "        avgs = [ arm.success_ratio() for arm in self.arms]\n",
    "        idx = avgs.index(max(avgs))\n",
    "        return idx\n",
    "    \n",
    "    def calc_ucb(self, arm):\n",
    "        ucb = arm.success_ratio() + math.sqrt(2*math.log(self.t) /arm.visits())\n",
    "        return ucb"
   ]
  },
  {
   "cell_type": "code",
   "execution_count": 660,
   "metadata": {},
   "outputs": [],
   "source": [
    "p_list = [0.1, 0.2, 0.3, 0.4]\n",
    "n_list = [1, 1, 1, 1]\n",
    "T = 10000"
   ]
  },
  {
   "cell_type": "code",
   "execution_count": 661,
   "metadata": {},
   "outputs": [],
   "source": [
    "def calc_performance(player, n =50):\n",
    "    score_list = []\n",
    "    sum_score = 0\n",
    "    for i in tqdm(range(n)):\n",
    "        score = player.execute()\n",
    "        sum_score += score\n",
    "        # print(score)\n",
    "        score_list.append(player.mean_rewards)\n",
    "        player.init()\n",
    "     #    print(player.mean_rewards)\n",
    "#         print(score_list)\n",
    "    # print(sum_score / n)\n",
    "    return score_list"
   ]
  },
  {
   "cell_type": "code",
   "execution_count": 663,
   "metadata": {},
   "outputs": [
    {
     "name": "stderr",
     "output_type": "stream",
     "text": [
      "100%|██████████| 50/50 [00:15<00:00,  3.33it/s]\n"
     ]
    }
   ],
   "source": [
    "player = Player(p_list, n_list, T , \"random\")\n",
    "random_results = calc_performance(player)"
   ]
  },
  {
   "cell_type": "code",
   "execution_count": 653,
   "metadata": {
    "scrolled": true
   },
   "outputs": [
    {
     "name": "stderr",
     "output_type": "stream",
     "text": [
      "100%|██████████| 50/50 [00:11<00:00,  4.23it/s]\n"
     ]
    }
   ],
   "source": [
    "player = Player(p_list, n_list, T, \"greedy\")\n",
    "greedy_results = calc_performance(player)"
   ]
  },
  {
   "cell_type": "code",
   "execution_count": 657,
   "metadata": {},
   "outputs": [
    {
     "name": "stderr",
     "output_type": "stream",
     "text": [
      "100%|██████████| 50/50 [00:16<00:00,  3.07it/s]\n"
     ]
    }
   ],
   "source": [
    "player = Player(p_list, n_list, T, \"epsilon_greedy\", epsilon=0.2)\n",
    "eps_greedy_results = calc_performance(player)"
   ]
  },
  {
   "cell_type": "code",
   "execution_count": 655,
   "metadata": {},
   "outputs": [
    {
     "name": "stderr",
     "output_type": "stream",
     "text": [
      "100%|██████████| 50/50 [00:14<00:00,  3.41it/s]\n"
     ]
    }
   ],
   "source": [
    "player = Player(p_list, n_list, T, \"ucb\")\n",
    "ucb_results = calc_performance(player)"
   ]
  },
  {
   "cell_type": "code",
   "execution_count": 701,
   "metadata": {},
   "outputs": [
    {
     "data": {
      "image/png": "[encoded data removed]",
      "text/plain": [
       "<Figure size 576x576 with 1 Axes>"
      ]
     },
     "metadata": {
      "needs_background": "light"
     },
     "output_type": "display_data"
    }
   ],
   "source": [
    "plt.rcParams[\"font.size\"] = 18\n",
    "plt.figure(figsize=(8, 8))\n",
    "plt.plot(np.mean(np.array(random_results), axis=0), label='random', linewidth=3)\n",
    "plt.plot(np.mean(np.array(greedy_results), axis=0), label = 'greedy', linewidth=3)\n",
    "plt.plot(np.mean(np.array(eps_greedy_results), axis=0), label = 'ε-greedy', linewidth=3)\n",
    "plt.plot(np.mean(np.array(ucb_results), axis=0), label='ucb', linewidth=3)\n",
    "plt.xlim((-100,10000))\n",
    "plt.grid(c='gainsboro')\n",
    "plt.savefig('bandit_result.png')\n",
    "# plt.legend()"
   ]
  },
  {
   "cell_type": "code",
   "execution_count": 620,
   "metadata": {},
   "outputs": [],
   "source": [
    "num_sims = 1000\n",
    "times = np.zeros(num_sims * T)\n",
    "rewards = np.zeros(num_sims * T)\n",
    "for sim in range(num_sims):\n",
    "    for t in range(T):\n",
    "        index = sim * T + t\n",
    "        times[index] = t+1\n",
    "        rewards[index] = greedy_results[sim][t]"
   ]
  },
  {
   "cell_type": "code",
   "execution_count": 621,
   "metadata": {},
   "outputs": [],
   "source": [
    "df_result = pd.DataFrame({\"times\": times, \"rewards\":rewards})"
   ]
  },
  {
   "cell_type": "code",
   "execution_count": 622,
   "metadata": {},
   "outputs": [],
   "source": [
    "grouped = df_result['rewards'].groupby(df_result[\"times\"])"
   ]
  },
  {
   "cell_type": "code",
   "execution_count": 625,
   "metadata": {},
   "outputs": [
    {
     "data": {
      "text/plain": [
       "[<matplotlib.lines.Line2D at 0x7f0865f4fa00>]"
      ]
     },
     "execution_count": 625,
     "metadata": {},
     "output_type": "execute_result"
    },
    {
     "data": {
      "image/png": "[encoded data removed]",
      "text/plain": [
       "<Figure size 432x288 with 1 Axes>"
      ]
     },
     "metadata": {
      "needs_background": "light"
     },
     "output_type": "display_data"
    }
   ],
   "source": [
    "plt.plot(grouped.mean(), label='ucb1')"
   ]
  },
  {
   "cell_type": "code",
   "execution_count": 519,
   "metadata": {
    "scrolled": true
   },
   "outputs": [
    {
     "name": "stderr",
     "output_type": "stream",
     "text": [
      "100%|██████████| 100/100 [00:23<00:00,  4.23it/s]"
     ]
    },
    {
     "name": "stdout",
     "output_type": "stream",
     "text": [
      "0.36278299999999997\n"
     ]
    },
    {
     "name": "stderr",
     "output_type": "stream",
     "text": [
      "\n"
     ]
    }
   ],
   "source": [
    "player = Player(p_list, n_list, T, \"greedy\")\n",
    "calc_performance(player)"
   ]
  },
  {
   "cell_type": "code",
   "execution_count": 514,
   "metadata": {
    "scrolled": true
   },
   "outputs": [
    {
     "name": "stderr",
     "output_type": "stream",
     "text": [
      "100%|██████████| 100/100 [00:03<00:00, 30.59it/s]"
     ]
    },
    {
     "name": "stdout",
     "output_type": "stream",
     "text": [
      "0.45445\n"
     ]
    },
    {
     "name": "stderr",
     "output_type": "stream",
     "text": [
      "\n"
     ]
    }
   ],
   "source": [
    "player = Player(p_list, n_list, T, \"epsilon_greedy\", epsilon=0.1)\n",
    "calc_performance(player)"
   ]
  },
  {
   "cell_type": "code",
   "execution_count": 515,
   "metadata": {},
   "outputs": [
    {
     "name": "stderr",
     "output_type": "stream",
     "text": [
      "100%|██████████| 100/100 [00:03<00:00, 30.26it/s]"
     ]
    },
    {
     "name": "stdout",
     "output_type": "stream",
     "text": [
      "0.4430300000000001\n"
     ]
    },
    {
     "name": "stderr",
     "output_type": "stream",
     "text": [
      "\n"
     ]
    }
   ],
   "source": [
    "player = Player(p_list, n_list, T, \"epsilon_greedy\", epsilon=0.2)\n",
    "calc_performance(player)"
   ]
  },
  {
   "cell_type": "code",
   "execution_count": 520,
   "metadata": {},
   "outputs": [
    {
     "name": "stderr",
     "output_type": "stream",
     "text": [
      "100%|██████████| 100/100 [00:31<00:00,  3.22it/s]"
     ]
    },
    {
     "name": "stdout",
     "output_type": "stream",
     "text": [
      "0.476989\n"
     ]
    },
    {
     "name": "stderr",
     "output_type": "stream",
     "text": [
      "\n"
     ]
    }
   ],
   "source": [
    "player = Player(p_list, n_list, T, \"ucb\")\n",
    "calc_performance(player)"
   ]
  },
  {
   "cell_type": "code",
   "execution_count": 350,
   "metadata": {},
   "outputs": [
    {
     "name": "stdout",
     "output_type": "stream",
     "text": [
      "0.1 23\n",
      "0.3 38\n",
      "0.5 139\n",
      "0.7 355\n",
      "0.9 9445\n"
     ]
    }
   ],
   "source": [
    "for arm in player.arms:\n",
    "    print(arm._p, arm.visits())"
   ]
  },
  {
   "cell_type": "markdown",
   "metadata": {},
   "source": [
    "### ランダム"
   ]
  },
  {
   "cell_type": "markdown",
   "metadata": {},
   "source": [
    "epsilon_greedyのepsilon = 1での実行と同義なので実装省略"
   ]
  },
  {
   "cell_type": "markdown",
   "metadata": {},
   "source": [
    "### Greedy"
   ]
  },
  {
   "cell_type": "code",
   "execution_count": 71,
   "metadata": {},
   "outputs": [],
   "source": [
    "def greedy(arms, T, n=10):\n",
    "    reward = 0\n",
    "    t = 0\n",
    "    for arm in arms:\n",
    "        for i in range(10):\n",
    "            reward += arm.play()\n",
    "            t += 1\n",
    "    while t < T:\n",
    "        avgs = [ calc_success_ratio(arm) for arm in arms]\n",
    "        index = avgs.index(max(avgs))\n",
    "        t += 1\n",
    "        reward += arms[index].play()\n",
    "    return reward\n",
    "    "
   ]
  },
  {
   "cell_type": "markdown",
   "metadata": {},
   "source": [
    "### ε-Greedy"
   ]
  },
  {
   "cell_type": "code",
   "execution_count": 61,
   "metadata": {},
   "outputs": [],
   "source": [
    "from numpy.random import binomial, randint\n",
    "# from Arm import Arm\n",
    "\n",
    "def epsilon_greedy(arms, T, epsilon):\n",
    "    reward = 0\n",
    "    for i in range(T):\n",
    "        if binomial(n=1, p=epsilon) == 1:\n",
    "            # 探索ステップ : アームを一様ランダムに選ぶ\n",
    "            index = randint(0, len(arms))\n",
    "        else:\n",
    "            # 活用ステップ : 今までで一番成功確率の高いアームを選ぶ\n",
    "            avgs = [ calc_success_ratio(arm) for arm in arms]\n",
    "            index = avgs.index(max(avgs))\n",
    "        reward += arms[index].play()\n",
    "    return reward"
   ]
  },
  {
   "cell_type": "markdown",
   "metadata": {},
   "source": [
    "### UCB"
   ]
  },
  {
   "cell_type": "code",
   "execution_count": 207,
   "metadata": {},
   "outputs": [],
   "source": [
    "def get_ucb(arm, t):\n",
    "    ucb = arm.success / (arm.success + arm.fail) + math.sqrt(2*math.log(t) / (arm.success + arm.fail))\n",
    "    return  ucb\n",
    "\n",
    "def UCB(arms, T):\n",
    "    reward = 0\n",
    "    t = 0\n",
    "    for arm in arms:\n",
    "        reward += arm.play()\n",
    "        t += 1\n",
    "    while t < T:\n",
    "        scores = [get_ucb(arm, t) for arm in arms]\n",
    "        max_score_index = scores.index(max(scores))\n",
    "        reward += arms[max_score_index].play()\n",
    "        t += 1\n",
    "    return reward"
   ]
  },
  {
   "cell_type": "markdown",
   "metadata": {},
   "source": [
    "## 比較実験\n",
    "下記の設定でMulti-Armを用意する。  \n",
    "p=0.3を5本, p=0.4を5本, p=0.5を4本, p=0.6を1本"
   ]
  },
  {
   "cell_type": "code",
   "execution_count": 287,
   "metadata": {},
   "outputs": [],
   "source": [
    "p_list = [0.1, 0.15]\n",
    "n_list = [9, 1]\n",
    "T = 10000"
   ]
  },
  {
   "cell_type": "code",
   "execution_count": 288,
   "metadata": {},
   "outputs": [],
   "source": [
    "def init_multi_arms(p_list, n_list):\n",
    "    arms = []\n",
    "    for p, n in zip(p_list, n_list):\n",
    "        for _ in range(n):\n",
    "            arms.append(Arm(p))\n",
    "    return arms"
   ]
  },
  {
   "cell_type": "markdown",
   "metadata": {},
   "source": [
    "### ランダム"
   ]
  },
  {
   "cell_type": "code",
   "execution_count": 295,
   "metadata": {},
   "outputs": [
    {
     "data": {
      "text/plain": [
       "1089"
      ]
     },
     "execution_count": 295,
     "metadata": {},
     "output_type": "execute_result"
    }
   ],
   "source": [
    "initial_arms = init_multi_arms(p_list, n_list)\n",
    "epsilon_greedy(initial_arms, T, 1.0)"
   ]
  },
  {
   "cell_type": "markdown",
   "metadata": {},
   "source": [
    "### greedy"
   ]
  },
  {
   "cell_type": "code",
   "execution_count": 305,
   "metadata": {},
   "outputs": [
    {
     "data": {
      "text/plain": [
       "1495"
      ]
     },
     "execution_count": 305,
     "metadata": {},
     "output_type": "execute_result"
    }
   ],
   "source": [
    "initial_arms = init_multi_arms(p_list, n_list)\n",
    "greedy(initial_arms, T, n=5)"
   ]
  },
  {
   "cell_type": "markdown",
   "metadata": {},
   "source": [
    "### ε-Greedy"
   ]
  },
  {
   "cell_type": "code",
   "execution_count": 269,
   "metadata": {},
   "outputs": [
    {
     "data": {
      "text/plain": [
       "6842"
      ]
     },
     "execution_count": 269,
     "metadata": {},
     "output_type": "execute_result"
    }
   ],
   "source": [
    "initial_arms = init_multi_arms(p_list, n_list)\n",
    "epsilon_greedy(initial_arms, T, 0.05)"
   ]
  },
  {
   "cell_type": "markdown",
   "metadata": {},
   "source": [
    "### UCB"
   ]
  },
  {
   "cell_type": "code",
   "execution_count": 315,
   "metadata": {},
   "outputs": [
    {
     "data": {
      "text/plain": [
       "1109"
      ]
     },
     "execution_count": 315,
     "metadata": {},
     "output_type": "execute_result"
    }
   ],
   "source": [
    "initial_arms = init_multi_arms(p_list, n_list)\n",
    "UCB(initial_arms, T)"
   ]
  },
  {
   "cell_type": "code",
   "execution_count": 284,
   "metadata": {},
   "outputs": [
    {
     "name": "stdout",
     "output_type": "stream",
     "text": [
      "0.1  28\n",
      "0.1  41\n",
      "0.1  35\n",
      "0.1  30\n",
      "0.1  28\n",
      "0.1  25\n",
      "0.1  23\n",
      "0.1  25\n",
      "0.1  28\n",
      "0.1  28\n",
      "0.2  30\n",
      "0.2  53\n",
      "0.2  39\n",
      "0.2  46\n",
      "0.2  56\n",
      "0.2  44\n",
      "0.2  35\n",
      "0.2  35\n",
      "0.2  35\n",
      "0.2  48\n",
      "0.3  63\n",
      "0.3  46\n",
      "0.3  37\n",
      "0.3  44\n",
      "0.3  56\n",
      "0.3  41\n",
      "0.3  70\n",
      "0.3  39\n",
      "0.3  56\n",
      "0.3  49\n",
      "0.4  72\n",
      "0.4  70\n",
      "0.4  81\n",
      "0.4  98\n",
      "0.4  58\n",
      "0.4  87\n",
      "0.4  81\n",
      "0.4  73\n",
      "0.4  108\n",
      "0.4  80\n",
      "0.5  133\n",
      "0.5  121\n",
      "0.5  175\n",
      "0.5  75\n",
      "0.5  149\n",
      "0.5  103\n",
      "0.5  106\n",
      "0.5  111\n",
      "0.5  75\n",
      "0.5  113\n",
      "0.6  227\n",
      "0.6  274\n",
      "0.6  188\n",
      "0.6  246\n",
      "0.6  169\n",
      "0.6  181\n",
      "0.6  126\n",
      "0.6  189\n",
      "0.6  147\n",
      "0.6  239\n",
      "0.7  348\n",
      "0.7  423\n",
      "0.7  371\n",
      "0.7  637\n",
      "0.7  311\n",
      "0.7  494\n",
      "0.7  407\n",
      "0.7  465\n",
      "0.7  547\n",
      "0.7  829\n",
      "10000\n"
     ]
    }
   ],
   "source": [
    "sum = 0\n",
    "for arm in initial_arms:\n",
    "    print(arm._p, end = '  ')\n",
    "    play_num = arm.success + arm.fail\n",
    "    print(play_num)\n",
    "    sum += play_num\n",
    "print(sum)"
   ]
  },
  {
   "cell_type": "code",
   "execution_count": 286,
   "metadata": {},
   "outputs": [
    {
     "name": "stdout",
     "output_type": "stream",
     "text": [
      "0.1  10\n",
      "0.1  10\n",
      "0.1  10\n",
      "0.1  10\n",
      "0.1  10\n",
      "0.1  10\n",
      "0.1  10\n",
      "0.1  10\n",
      "0.1  10\n",
      "0.1  10\n",
      "0.2  10\n",
      "0.2  10\n",
      "0.2  10\n",
      "0.2  10\n",
      "0.2  10\n",
      "0.2  10\n",
      "0.2  10\n",
      "0.2  10\n",
      "0.2  10\n",
      "0.2  10\n",
      "0.3  10\n",
      "0.3  10\n",
      "0.3  10\n",
      "0.3  10\n",
      "0.3  10\n",
      "0.3  10\n",
      "0.3  10\n",
      "0.3  10\n",
      "0.3  10\n",
      "0.3  10\n",
      "0.4  10\n",
      "0.4  10\n",
      "0.4  10\n",
      "0.4  10\n",
      "0.4  10\n",
      "0.4  10\n",
      "0.4  10\n",
      "0.4  10\n",
      "0.4  10\n",
      "0.4  10\n",
      "0.5  10\n",
      "0.5  10\n",
      "0.5  10\n",
      "0.5  10\n",
      "0.5  10\n",
      "0.5  10\n",
      "0.5  10\n",
      "0.5  11\n",
      "0.5  10\n",
      "0.5  10\n",
      "0.6  21\n",
      "0.6  10\n",
      "0.6  10\n",
      "0.6  10\n",
      "0.6  13\n",
      "0.6  10\n",
      "0.6  12\n",
      "0.6  16\n",
      "0.6  10\n",
      "0.6  10\n",
      "0.7  11\n",
      "0.7  10\n",
      "0.7  13\n",
      "0.7  91\n",
      "0.7  22\n",
      "0.7  9189\n",
      "0.7  10\n",
      "0.7  11\n",
      "0.7  10\n",
      "0.7  10\n",
      "10000\n"
     ]
    }
   ],
   "source": [
    "sum = 0\n",
    "for arm in initial_arms:\n",
    "    print(arm._p, end = '  ')\n",
    "    play_num = arm.success + arm.fail\n",
    "    print(play_num)\n",
    "    sum += play_num\n",
    "print(sum)"
   ]
  },
  {
   "cell_type": "code",
   "execution_count": null,
   "metadata": {},
   "outputs": [],
   "source": []
  }
 ],
 "metadata": {
  "kernelspec": {
   "display_name": "Python 3",
   "language": "python",
   "name": "python3"
  },
  "language_info": {
   "codemirror_mode": {
    "name": "ipython",
    "version": 3
   },
   "file_extension": ".py",
   "mimetype": "text/x-python",
   "name": "python",
   "nbconvert_exporter": "python",
   "pygments_lexer": "ipython3",
   "version": "3.8.6"
  }
 },
 "nbformat": 4,
 "nbformat_minor": 4
}
